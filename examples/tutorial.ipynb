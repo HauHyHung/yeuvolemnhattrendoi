{
  "nbformat": 4,
  "nbformat_minor": 0,
  "metadata": {
    "colab": {
      "name": "YOLO11 Tutorial",
      "provenance": []
    },
    "kernelspec": {
      "name": "python3",
      "display_name": "Python 3"
    },
    "accelerator": "GPU"
  },
  "cells": [
    {
      "cell_type": "markdown",
      "metadata": {
        "id": "t6MPjfT5NrKQ"
      },
      "source": [
        "<div align=\"center\">\n",
        "\n",
        "  <a href=\"https://ultralytics.com/yolo\" target=\"_blank\">\n",
        "    <img width=\"1024\", src=\"https://raw.githubusercontent.com/ultralytics/assets/main/yolov8/banner-yolov8.png\"></a>\n",
        "\n",
        "  [中文](https://docs.ultralytics.com/zh/) | [한국어](https://docs.ultralytics.com/ko/) | [日本語](https://docs.ultralytics.com/ja/) | [Русский](https://docs.ultralytics.com/ru/) | [Deutsch](https://docs.ultralytics.com/de/) | [Français](https://docs.ultralytics.com/fr/) | [Español](https://docs.ultralytics.com/es/) | [Português](https://docs.ultralytics.com/pt/) | [Türkçe](https://docs.ultralytics.com/tr/) | [Tiếng Việt](https://docs.ultralytics.com/vi/) | [العربية](https://docs.ultralytics.com/ar/)\n",
        "\n",
        "  <a href=\"https://github.com/ultralytics/ultralytics/actions/workflows/ci.yaml\"><img src=\"https://github.com/ultralytics/ultralytics/actions/workflows/ci.yaml/badge.svg\" alt=\"Ultralytics CI\"></a>\n",
        "  <a href=\"https://console.paperspace.com/github/ultralytics/ultralytics\"><img src=\"https://assets.paperspace.io/img/gradient-badge.svg\" alt=\"Run on Gradient\"/></a>\n",
        "  <a href=\"https://colab.research.google.com/github/ultralytics/ultralytics/blob/main/examples/tutorial.ipynb\"><img src=\"https://colab.research.google.com/assets/colab-badge.svg\" alt=\"Open In Colab\"></a>\n",
        "  <a href=\"https://www.kaggle.com/models/ultralytics/yolo11\"><img src=\"https://kaggle.com/static/images/open-in-kaggle.svg\" alt=\"Open In Kaggle\"></a>\n",
        "\n",
        "  <a href=\"https://ultralytics.com/discord\"><img alt=\"Discord\" src=\"https://img.shields.io/discord/1089800235347353640?logo=discord&logoColor=white&label=Discord&color=blue\"></a>\n",
        "  <a href=\"https://community.ultralytics.com\"><img alt=\"Ultralytics Forums\" src=\"https://img.shields.io/discourse/users?server=https%3A%2F%2Fcommunity.ultralytics.com&logo=discourse&label=Forums&color=blue\"></a>\n",
        "  <a href=\"https://reddit.com/r/ultralytics\"><img alt=\"Ultralytics Reddit\" src=\"https://img.shields.io/reddit/subreddit-subscribers/ultralytics?style=flat&logo=reddit&logoColor=white&label=Reddit&color=blue\"></a>\n",
        "\n",
        "Welcome to the Ultralytics YOLO11 🚀 notebook! <a href=\"https://github.com/ultralytics/ultralytics\">YOLO11</a> is the latest version of the YOLO (You Only Look Once) AI models developed by <a href=\"https://ultralytics.com\">Ultralytics</a>. This notebook serves as the starting point for exploring the various resources available to help you get started with YOLO11 and understand its features and capabilities.\n",
        "\n",
        "YOLO11 models are fast, accurate, and easy to use, making them ideal for various object detection and image segmentation tasks. They can be trained on large datasets and run on diverse hardware platforms, from CPUs to GPUs.\n",
        "\n",
        "We hope that the resources in this notebook will help you get the most out of YOLO11. Please browse the YOLO11 <a href=\"https://docs.ultralytics.com/\">Docs</a> for details, raise an issue on <a href=\"https://github.com/ultralytics/ultralytics\">GitHub</a> for support, and join our <a href=\"https://ultralytics.com/discord\">Discord</a> community for questions and discussions!\n",
        "\n",
        "</div>"
      ]
    },
    {
      "cell_type": "markdown",
      "metadata": {
        "id": "7mGmQbAO5pQb"
      },
      "source": [
        "# Setup\n",
        "\n",
        "Pip install `ultralytics` and [dependencies](https://github.com/ultralytics/ultralytics/blob/main/pyproject.toml) and check software and hardware.\n",
        "\n",
        "[![PyPI - Version](https://img.shields.io/pypi/v/ultralytics?logo=pypi&logoColor=white)](https://pypi.org/project/ultralytics/) [![Downloads](https://static.pepy.tech/badge/ultralytics)](https://pepy.tech/project/ultralytics) [![PyPI - Python Version](https://img.shields.io/pypi/pyversions/ultralytics?logo=python&logoColor=gold)](https://pypi.org/project/ultralytics/)"
      ]
    },
    {
      "cell_type": "code",
      "metadata": {
        "id": "wbvMlHd_QwMG",
        "colab": {
          "base_uri": "https://localhost:8080/"
        },
        "outputId": "d288ece9-17f3-4f0e-9988-a1de458574dc"
      },
      "source": [
        "%pip install ultralytics\n",
        "import ultralytics\n",
        "ultralytics.checks()"
      ],
      "execution_count": 1,
      "outputs": [
        {
          "output_type": "stream",
          "name": "stdout",
          "text": [
            "Ultralytics 8.3.23 🚀 Python-3.10.12 torch-2.5.0+cu121 CPU (Intel Xeon 2.20GHz)\n",
            "Setup complete ✅ (2 CPUs, 12.7 GB RAM, 32.3/107.7 GB disk)\n"
          ]
        }
      ]
    },
    {
      "cell_type": "markdown",
      "metadata": {
        "id": "4JnkELT0cIJg"
      },
      "source": [
        "# 1. Predict\n",
        "\n",
        "YOLO11 may be used directly in the Command Line Interface (CLI) with a `yolo` command for a variety of tasks and modes and accepts additional arguments, i.e. `imgsz=640`. See a full list of available `yolo` [arguments](https://docs.ultralytics.com/usage/cfg/) and other details in the [YOLO11 Predict Docs](https://docs.ultralytics.com/modes/train/).\n"
      ]
    },
    {
      "cell_type": "code",
      "metadata": {
        "id": "zR9ZbuQCH7FX",
        "colab": {
          "base_uri": "https://localhost:8080/"
        },
        "outputId": "1c9fd490-8fb4-4872-b106-b5b37a6ccc0f"
      },
      "source": [
        "# Run inference on an image with YOLO11n\n",
        "!yolo predict model=yolo11n.pt source='/content/zidane.jpg'"
      ],
      "execution_count": 3,
      "outputs": [
        {
          "output_type": "stream",
          "name": "stdout",
          "text": [
            "Ultralytics 8.3.23 🚀 Python-3.10.12 torch-2.5.0+cu121 CPU (Intel Xeon 2.20GHz)\n",
            "YOLO11n summary (fused): 238 layers, 2,616,248 parameters, 0 gradients, 6.5 GFLOPs\n",
            "\n",
            "image 1/1 /content/zidane.jpg: 384x640 2 persons, 1 tie, 153.9ms\n",
            "Speed: 4.7ms preprocess, 153.9ms inference, 2.0ms postprocess per image at shape (1, 3, 384, 640)\n",
            "Results saved to \u001b[1mruns/detect/predict2\u001b[0m\n",
            "💡 Learn more at https://docs.ultralytics.com/modes/predict\n"
          ]
        }
      ]
    },
    {
      "cell_type": "markdown",
      "metadata": {
        "id": "hkAzDWJ7cWTr"
      },
      "source": [
        "&nbsp;&nbsp;&nbsp;&nbsp;&nbsp;&nbsp;&nbsp;&nbsp;\n",
        "<img align=\"left\" src=\"https://user-images.githubusercontent.com/26833433/212889447-69e5bdf1-5800-4e29-835e-2ed2336dede2.jpg\" width=\"600\">"
      ]
    },
    {
      "cell_type": "markdown",
      "metadata": {
        "id": "0eq1SMWl6Sfn"
      },
      "source": [
        "# 2. Val\n",
        "Validate a model's accuracy on the [COCO](https://docs.ultralytics.com/datasets/detect/coco/) dataset's `val` or `test` splits. The latest YOLO11 [models](https://github.com/ultralytics/ultralytics#models) are downloaded automatically the first time they are used. See [YOLO11 Val Docs](https://docs.ultralytics.com/modes/val/) for more information."
      ]
    },
    {
      "cell_type": "code",
      "metadata": {
        "id": "WQPtK1QYVaD_"
      },
      "source": [
        "# Download COCO val\n",
        "import torch\n",
        "torch.hub.download_url_to_file('https://ultralytics.com/assets/coco2017val.zip', 'tmp.zip')  # download (780M - 5000 images)\n",
        "!unzip -q tmp.zip -d datasets && rm tmp.zip  # unzip"
      ],
      "execution_count": null,
      "outputs": []
    },
    {
      "cell_type": "code",
      "metadata": {
        "id": "X58w8JLpMnjH",
        "outputId": "af2a5deb-029b-466d-96a4-bd3e406987fa",
        "colab": {
          "base_uri": "https://localhost:8080/"
        }
      },
      "source": [
        "# Validate YOLO11n on COCO8 val\n",
        "!yolo val model=yolo11n.pt data=coco8.yaml"
      ],
      "execution_count": null,
      "outputs": [
        {
          "output_type": "stream",
          "name": "stdout",
          "text": [
            "Ultralytics 8.3.2 🚀 Python-3.10.12 torch-2.4.1+cu121 CUDA:0 (Tesla T4, 15102MiB)\n",
            "YOLO11n summary (fused): 238 layers, 2,616,248 parameters, 0 gradients, 6.5 GFLOPs\n",
            "\n",
            "Dataset 'coco8.yaml' images not found ⚠️, missing path '/content/datasets/coco8/images/val'\n",
            "Downloading https://ultralytics.com/assets/coco8.zip to '/content/datasets/coco8.zip'...\n",
            "100% 433k/433k [00:00<00:00, 15.8MB/s]\n",
            "Unzipping /content/datasets/coco8.zip to /content/datasets/coco8...: 100% 25/25 [00:00<00:00, 1188.35file/s]\n",
            "Dataset download success ✅ (1.4s), saved to \u001b[1m/content/datasets\u001b[0m\n",
            "\n",
            "Downloading https://ultralytics.com/assets/Arial.ttf to '/root/.config/Ultralytics/Arial.ttf'...\n",
            "100% 755k/755k [00:00<00:00, 17.7MB/s]\n",
            "\u001b[34m\u001b[1mval: \u001b[0mScanning /content/datasets/coco8/labels/val... 4 images, 0 backgrounds, 0 corrupt: 100% 4/4 [00:00<00:00, 142.04it/s]\n",
            "\u001b[34m\u001b[1mval: \u001b[0mNew cache created: /content/datasets/coco8/labels/val.cache\n",
            "                 Class     Images  Instances      Box(P          R      mAP50  mAP50-95): 100% 1/1 [00:04<00:00,  4.75s/it]\n",
            "                   all          4         17       0.57       0.85      0.847      0.632\n",
            "                person          3         10      0.557        0.6      0.585      0.272\n",
            "                   dog          1          1      0.548          1      0.995      0.697\n",
            "                 horse          1          2      0.531          1      0.995      0.674\n",
            "              elephant          1          2      0.371        0.5      0.516      0.256\n",
            "              umbrella          1          1      0.569          1      0.995      0.995\n",
            "          potted plant          1          1      0.847          1      0.995      0.895\n",
            "Speed: 1.0ms preprocess, 73.8ms inference, 0.0ms loss, 561.4ms postprocess per image\n",
            "Results saved to \u001b[1mruns/detect/val\u001b[0m\n",
            "💡 Learn more at https://docs.ultralytics.com/modes/val\n"
          ]
        }
      ]
    },
    {
      "cell_type": "code",
      "source": [
        "!unrar x /content/coco128.rar"
      ],
      "metadata": {
        "colab": {
          "base_uri": "https://localhost:8080/"
        },
        "id": "AWw-ZK4kKs5_",
        "outputId": "65f921db-323d-4c8c-81a3-dfe82d1403fc"
      },
      "execution_count": 5,
      "outputs": [
        {
          "output_type": "stream",
          "name": "stdout",
          "text": [
            "\n",
            "UNRAR 6.11 beta 1 freeware      Copyright (c) 1993-2022 Alexander Roshal\n",
            "\n",
            "\n",
            "Extracting from /content/coco128.rar\n",
            "\n",
            "Creating    coco128                                                   OK\n",
            "Creating    coco128/images                                            OK\n",
            "Creating    coco128/images/train2017                                  OK\n",
            "Extracting  coco128/images/train2017/a (1).jpg                           \b\b\b\b  0%\b\b\b\b\b  OK \n",
            "Extracting  coco128/images/train2017/a (10).jpg                          \b\b\b\b  1%\b\b\b\b\b  OK \n",
            "Extracting  coco128/images/train2017/a (100).jpg                         \b\b\b\b  1%\b\b\b\b\b  OK \n",
            "Extracting  coco128/images/train2017/a (101).jpg                         \b\b\b\b  2%\b\b\b\b\b  OK \n",
            "Extracting  coco128/images/train2017/a (102).jpg                         \b\b\b\b  2%\b\b\b\b  3%\b\b\b\b\b  OK \n",
            "Extracting  coco128/images/train2017/a (103).jpg                         \b\b\b\b  3%\b\b\b\b\b  OK \n",
            "Extracting  coco128/images/train2017/a (104).jpg                         \b\b\b\b  4%\b\b\b\b\b  OK \n",
            "Extracting  coco128/images/train2017/a (105).jpg                         \b\b\b\b  4%\b\b\b\b  5%\b\b\b\b\b  OK \n",
            "Extracting  coco128/images/train2017/a (106).jpg                         \b\b\b\b  6%\b\b\b\b\b  OK \n",
            "Extracting  coco128/images/train2017/a (107).jpg                         \b\b\b\b  6%\b\b\b\b\b  OK \n",
            "Extracting  coco128/images/train2017/a (108).jpg                         \b\b\b\b  7%\b\b\b\b\b  OK \n",
            "Extracting  coco128/images/train2017/a (109).jpg                         \b\b\b\b  7%\b\b\b\b  8%\b\b\b\b\b  OK \n",
            "Extracting  coco128/images/train2017/a (11).jpg                          \b\b\b\b  8%\b\b\b\b\b  OK \n",
            "Extracting  coco128/images/train2017/a (110).jpg                         \b\b\b\b  9%\b\b\b\b\b  OK \n",
            "Extracting  coco128/images/train2017/a (111).jpg                         \b\b\b\b  9%\b\b\b\b\b  OK \n",
            "Extracting  coco128/images/train2017/a (112).jpg                         \b\b\b\b 10%\b\b\b\b\b  OK \n",
            "Extracting  coco128/images/train2017/a (113).jpg                         \b\b\b\b 11%\b\b\b\b\b  OK \n",
            "Extracting  coco128/images/train2017/a (114).jpg                         \b\b\b\b 11%\b\b\b\b\b  OK \n",
            "Extracting  coco128/images/train2017/a (115).jpg                         \b\b\b\b 11%\b\b\b\b\b  OK \n",
            "Extracting  coco128/images/train2017/a (116).jpg                         \b\b\b\b 12%\b\b\b\b\b  OK \n",
            "Extracting  coco128/images/train2017/a (117).jpg                         \b\b\b\b 12%\b\b\b\b\b  OK \n",
            "Extracting  coco128/images/train2017/a (118).jpg                         \b\b\b\b 12%\b\b\b\b\b  OK \n",
            "Extracting  coco128/images/train2017/a (119).jpg                         \b\b\b\b 13%\b\b\b\b\b  OK \n",
            "Extracting  coco128/images/train2017/a (12).jpg                          \b\b\b\b 13%\b\b\b\b\b  OK \n",
            "Extracting  coco128/images/train2017/a (120).jpg                         \b\b\b\b 14%\b\b\b\b\b  OK \n",
            "Extracting  coco128/images/train2017/a (121).jpg                         \b\b\b\b 14%\b\b\b\b\b  OK \n",
            "Extracting  coco128/images/train2017/a (122).jpg                         \b\b\b\b 14%\b\b\b\b\b  OK \n",
            "Extracting  coco128/images/train2017/a (123).jpg                         \b\b\b\b 15%\b\b\b\b\b  OK \n",
            "Extracting  coco128/images/train2017/a (124).jpg                         \b\b\b\b 15%\b\b\b\b\b  OK \n",
            "Extracting  coco128/images/train2017/a (125).jpg                         \b\b\b\b 16%\b\b\b\b\b  OK \n",
            "Extracting  coco128/images/train2017/a (126).jpg                         \b\b\b\b 16%\b\b\b\b\b  OK \n",
            "Extracting  coco128/images/train2017/a (127).jpg                         \b\b\b\b 17%\b\b\b\b\b  OK \n",
            "Extracting  coco128/images/train2017/a (128).jpg                         \b\b\b\b 17%\b\b\b\b\b  OK \n",
            "Extracting  coco128/images/train2017/a (129).jpg                         \b\b\b\b 18%\b\b\b\b\b  OK \n",
            "Extracting  coco128/images/train2017/a (13).jpg                          \b\b\b\b 18%\b\b\b\b\b  OK \n",
            "Extracting  coco128/images/train2017/a (130).jpg                         \b\b\b\b 19%\b\b\b\b\b  OK \n",
            "Extracting  coco128/images/train2017/a (131).jpg                         \b\b\b\b 19%\b\b\b\b 20%\b\b\b\b\b  OK \n",
            "Extracting  coco128/images/train2017/a (132).jpg                         \b\b\b\b 20%\b\b\b\b\b  OK \n",
            "Extracting  coco128/images/train2017/a (133).jpg                         \b\b\b\b 20%\b\b\b\b 21%\b\b\b\b\b  OK \n",
            "Extracting  coco128/images/train2017/a (134).jpg                         \b\b\b\b 21%\b\b\b\b\b  OK \n",
            "Extracting  coco128/images/train2017/a (135).jpg                         \b\b\b\b 21%\b\b\b\b\b  OK \n",
            "Extracting  coco128/images/train2017/a (136).jpg                         \b\b\b\b 22%\b\b\b\b\b  OK \n",
            "Extracting  coco128/images/train2017/a (137).jpg                         \b\b\b\b 22%\b\b\b\b\b  OK \n",
            "Extracting  coco128/images/train2017/a (138).jpg                         \b\b\b\b 23%\b\b\b\b\b  OK \n",
            "Extracting  coco128/images/train2017/a (139).jpg                         \b\b\b\b 23%\b\b\b\b\b  OK \n",
            "Extracting  coco128/images/train2017/a (14).jpg                          \b\b\b\b 24%\b\b\b\b\b  OK \n",
            "Extracting  coco128/images/train2017/a (140).jpg                         \b\b\b\b 24%\b\b\b\b\b  OK \n",
            "Extracting  coco128/images/train2017/a (141).jpg                         \b\b\b\b 25%\b\b\b\b\b  OK \n",
            "Extracting  coco128/images/train2017/a (142).jpg                         \b\b\b\b 25%\b\b\b\b\b  OK \n",
            "Extracting  coco128/images/train2017/a (143).jpg                         \b\b\b\b 26%\b\b\b\b\b  OK \n",
            "Extracting  coco128/images/train2017/a (144).jpg                         \b\b\b\b 26%\b\b\b\b\b  OK \n",
            "Extracting  coco128/images/train2017/a (145).jpg                         \b\b\b\b 26%\b\b\b\b\b  OK \n",
            "Extracting  coco128/images/train2017/a (146).jpg                         \b\b\b\b 27%\b\b\b\b\b  OK \n",
            "Extracting  coco128/images/train2017/a (147).jpg                         \b\b\b\b 28%\b\b\b\b\b  OK \n",
            "Extracting  coco128/images/train2017/a (148).jpg                         \b\b\b\b 28%\b\b\b\b\b  OK \n",
            "Extracting  coco128/images/train2017/a (149).jpg                         \b\b\b\b 28%\b\b\b\b\b  OK \n",
            "Extracting  coco128/images/train2017/a (15).jpg                          \b\b\b\b 29%\b\b\b\b\b  OK \n",
            "Extracting  coco128/images/train2017/a (150).jpg                         \b\b\b\b 29%\b\b\b\b\b  OK \n",
            "Extracting  coco128/images/train2017/a (151).jpg                         \b\b\b\b 30%\b\b\b\b\b  OK \n",
            "Extracting  coco128/images/train2017/a (152).jpg                         \b\b\b\b 31%\b\b\b\b\b  OK \n",
            "Extracting  coco128/images/train2017/a (153).jpg                         \b\b\b\b 31%\b\b\b\b\b  OK \n",
            "Extracting  coco128/images/train2017/a (154).jpg                         \b\b\b\b 31%\b\b\b\b\b  OK \n",
            "Extracting  coco128/images/train2017/a (155).jpg                         \b\b\b\b 32%\b\b\b\b\b  OK \n",
            "Extracting  coco128/images/train2017/a (156).jpg                         \b\b\b\b 32%\b\b\b\b\b  OK \n",
            "Extracting  coco128/images/train2017/a (157).jpg                         \b\b\b\b 32%\b\b\b\b\b  OK \n",
            "Extracting  coco128/images/train2017/a (158).jpg                         \b\b\b\b 33%\b\b\b\b\b  OK \n",
            "Extracting  coco128/images/train2017/a (159).jpg                         \b\b\b\b 34%\b\b\b\b\b  OK \n",
            "Extracting  coco128/images/train2017/a (16).jpg                          \b\b\b\b 34%\b\b\b\b\b  OK \n",
            "Extracting  coco128/images/train2017/a (160).jpg                         \b\b\b\b 35%\b\b\b\b\b  OK \n",
            "Extracting  coco128/images/train2017/a (161).jpg                         \b\b\b\b 35%\b\b\b\b\b  OK \n",
            "Extracting  coco128/images/train2017/a (162).jpg                         \b\b\b\b 36%\b\b\b\b\b  OK \n",
            "Extracting  coco128/images/train2017/a (163).jpg                         \b\b\b\b 37%\b\b\b\b\b  OK \n",
            "Extracting  coco128/images/train2017/a (164).jpg                         \b\b\b\b 38%\b\b\b\b\b  OK \n",
            "Extracting  coco128/images/train2017/a (165).jpg                         \b\b\b\b 38%\b\b\b\b\b  OK \n",
            "Extracting  coco128/images/train2017/a (166).jpg                         \b\b\b\b 38%\b\b\b\b\b  OK \n",
            "Extracting  coco128/images/train2017/a (167).jpg                         \b\b\b\b 38%\b\b\b\b\b  OK \n",
            "Extracting  coco128/images/train2017/a (168).jpg                         \b\b\b\b 39%\b\b\b\b\b  OK \n",
            "Extracting  coco128/images/train2017/a (169).jpg                         \b\b\b\b 39%\b\b\b\b\b  OK \n",
            "Extracting  coco128/images/train2017/a (17).jpg                          \b\b\b\b 39%\b\b\b\b\b  OK \n",
            "Extracting  coco128/images/train2017/a (170).jpg                         \b\b\b\b 40%\b\b\b\b\b  OK \n",
            "Extracting  coco128/images/train2017/a (171).jpg                         \b\b\b\b 40%\b\b\b\b 41%\b\b\b\b\b  OK \n",
            "Extracting  coco128/images/train2017/a (172).jpg                         \b\b\b\b 41%\b\b\b\b\b  OK \n",
            "Extracting  coco128/images/train2017/a (173).jpg                         \b\b\b\b 42%\b\b\b\b\b  OK \n",
            "Extracting  coco128/images/train2017/a (174).jpg                         \b\b\b\b 42%\b\b\b\b\b  OK \n",
            "Extracting  coco128/images/train2017/a (175).jpg                         \b\b\b\b 43%\b\b\b\b\b  OK \n",
            "Extracting  coco128/images/train2017/a (176).jpg                         \b\b\b\b 43%\b\b\b\b\b  OK \n",
            "Extracting  coco128/images/train2017/a (177).jpg                         \b\b\b\b 44%\b\b\b\b\b  OK \n",
            "Extracting  coco128/images/train2017/a (178).jpg                         \b\b\b\b 44%\b\b\b\b\b  OK \n",
            "Extracting  coco128/images/train2017/a (179).jpg                         \b\b\b\b 45%\b\b\b\b\b  OK \n",
            "Extracting  coco128/images/train2017/a (18).jpg                          \b\b\b\b 45%\b\b\b\b 46%\b\b\b\b\b  OK \n",
            "Extracting  coco128/images/train2017/a (180).jpg                         \b\b\b\b 46%\b\b\b\b\b  OK \n",
            "Extracting  coco128/images/train2017/a (181).jpg                         \b\b\b\b 47%\b\b\b\b\b  OK \n",
            "Extracting  coco128/images/train2017/a (182).jpg                         \b\b\b\b 47%\b\b\b\b\b  OK \n",
            "Extracting  coco128/images/train2017/a (183).jpg                         \b\b\b\b 47%\b\b\b\b\b  OK \n",
            "Extracting  coco128/images/train2017/a (184).jpg                         \b\b\b\b 48%\b\b\b\b\b  OK \n",
            "Extracting  coco128/images/train2017/a (185).jpg                         \b\b\b\b 48%\b\b\b\b\b  OK \n",
            "Extracting  coco128/images/train2017/a (186).jpg                         \b\b\b\b 49%\b\b\b\b\b  OK \n",
            "Extracting  coco128/images/train2017/a (187).jpg                         \b\b\b\b 49%\b\b\b\b\b  OK \n",
            "Extracting  coco128/images/train2017/a (188).jpg                         \b\b\b\b 49%\b\b\b\b 50%\b\b\b\b\b  OK \n",
            "Extracting  coco128/images/train2017/a (189).jpg                         \b\b\b\b 50%\b\b\b\b 51%\b\b\b\b\b  OK \n",
            "Extracting  coco128/images/train2017/a (19).jpg                          \b\b\b\b 51%\b\b\b\b\b  OK \n",
            "Extracting  coco128/images/train2017/a (190).jpg                         \b\b\b\b 52%\b\b\b\b\b  OK \n",
            "Extracting  coco128/images/train2017/a (191).jpg                         \b\b\b\b 52%\b\b\b\b\b  OK \n",
            "Extracting  coco128/images/train2017/a (192).jpg                         \b\b\b\b 53%\b\b\b\b\b  OK \n",
            "Extracting  coco128/images/train2017/a (193).jpg                         \b\b\b\b 53%\b\b\b\b\b  OK \n",
            "Extracting  coco128/images/train2017/a (194).jpg                         \b\b\b\b 54%\b\b\b\b\b  OK \n",
            "Extracting  coco128/images/train2017/a (195).jpg                         \b\b\b\b 54%\b\b\b\b\b  OK \n",
            "Extracting  coco128/images/train2017/a (196).jpg                         \b\b\b\b 55%\b\b\b\b\b  OK \n",
            "Extracting  coco128/images/train2017/a (197).jpg                         \b\b\b\b 56%\b\b\b\b\b  OK \n",
            "Extracting  coco128/images/train2017/a (198).jpg                         \b\b\b\b 56%\b\b\b\b\b  OK \n",
            "Extracting  coco128/images/train2017/a (199).jpg                         \b\b\b\b 57%\b\b\b\b\b  OK \n",
            "Extracting  coco128/images/train2017/a (2).jpg                           \b\b\b\b 57%\b\b\b\b\b  OK \n",
            "Extracting  coco128/images/train2017/a (20).jpg                          \b\b\b\b 58%\b\b\b\b\b  OK \n",
            "Extracting  coco128/images/train2017/a (200).jpg                         \b\b\b\b 58%\b\b\b\b 59%\b\b\b\b\b  OK \n",
            "Extracting  coco128/images/train2017/a (201).jpg                         \b\b\b\b 59%\b\b\b\b\b  OK \n",
            "Extracting  coco128/images/train2017/a (202).jpg                         \b\b\b\b 59%\b\b\b\b 60%\b\b\b\b\b  OK \n",
            "Extracting  coco128/images/train2017/a (203).jpg                         \b\b\b\b 60%\b\b\b\b\b  OK \n",
            "Extracting  coco128/images/train2017/a (204).jpg                         \b\b\b\b 62%\b\b\b\b\b  OK \n",
            "Extracting  coco128/images/train2017/a (21).jpg                          \b\b\b\b 62%\b\b\b\b\b  OK \n",
            "Extracting  coco128/images/train2017/a (22).jpg                          \b\b\b\b 63%\b\b\b\b\b  OK \n",
            "Extracting  coco128/images/train2017/a (23).jpg                          \b\b\b\b 63%\b\b\b\b\b  OK \n",
            "Extracting  coco128/images/train2017/a (24).jpg                          \b\b\b\b 63%\b\b\b\b\b  OK \n",
            "Extracting  coco128/images/train2017/a (25).jpg                          \b\b\b\b 64%\b\b\b\b\b  OK \n",
            "Extracting  coco128/images/train2017/a (26).jpg                          \b\b\b\b 64%\b\b\b\b\b  OK \n",
            "Extracting  coco128/images/train2017/a (27).jpg                          \b\b\b\b 64%\b\b\b\b\b  OK \n",
            "Extracting  coco128/images/train2017/a (28).jpg                          \b\b\b\b 65%\b\b\b\b\b  OK \n",
            "Extracting  coco128/images/train2017/a (29).jpg                          \b\b\b\b 65%\b\b\b\b\b  OK \n",
            "Extracting  coco128/images/train2017/a (3).jpg                           \b\b\b\b 65%\b\b\b\b\b  OK \n",
            "Extracting  coco128/images/train2017/a (30).jpg                          \b\b\b\b 66%\b\b\b\b\b  OK \n",
            "Extracting  coco128/images/train2017/a (31).jpg                          \b\b\b\b 66%\b\b\b\b\b  OK \n",
            "Extracting  coco128/images/train2017/a (32).jpg                          \b\b\b\b 67%\b\b\b\b\b  OK \n",
            "Extracting  coco128/images/train2017/a (33).jpg                          \b\b\b\b 67%\b\b\b\b\b  OK \n",
            "Extracting  coco128/images/train2017/a (34).jpg                          \b\b\b\b 67%\b\b\b\b\b  OK \n",
            "Extracting  coco128/images/train2017/a (35).jpg                          \b\b\b\b 67%\b\b\b\b\b  OK \n",
            "Extracting  coco128/images/train2017/a (36).jpg                          \b\b\b\b 68%\b\b\b\b\b  OK \n",
            "Extracting  coco128/images/train2017/a (37).jpg                          \b\b\b\b 69%\b\b\b\b\b  OK \n",
            "Extracting  coco128/images/train2017/a (38).jpg                          \b\b\b\b 69%\b\b\b\b\b  OK \n",
            "Extracting  coco128/images/train2017/a (39).jpg                          \b\b\b\b 69%\b\b\b\b\b  OK \n",
            "Extracting  coco128/images/train2017/a (4).jpg                           \b\b\b\b 69%\b\b\b\b\b  OK \n",
            "Extracting  coco128/images/train2017/a (40).jpg                          \b\b\b\b 70%\b\b\b\b\b  OK \n",
            "Extracting  coco128/images/train2017/a (41).jpg                          \b\b\b\b 70%\b\b\b\b\b  OK \n",
            "Extracting  coco128/images/train2017/a (42).jpg                          \b\b\b\b 70%\b\b\b\b 71%\b\b\b\b\b  OK \n",
            "Extracting  coco128/images/train2017/a (43).jpg                          \b\b\b\b 71%\b\b\b\b\b  OK \n",
            "Extracting  coco128/images/train2017/a (44).jpg                          \b\b\b\b 72%\b\b\b\b\b  OK \n",
            "Extracting  coco128/images/train2017/a (45).jpg                          \b\b\b\b 72%\b\b\b\b\b  OK \n",
            "Extracting  coco128/images/train2017/a (46).jpg                          \b\b\b\b 73%\b\b\b\b\b  OK \n",
            "Extracting  coco128/images/train2017/a (47).jpg                          \b\b\b\b 73%\b\b\b\b\b  OK \n",
            "Extracting  coco128/images/train2017/a (48).jpg                          \b\b\b\b 74%\b\b\b\b\b  OK \n",
            "Extracting  coco128/images/train2017/a (49).jpg                          \b\b\b\b 75%\b\b\b\b\b  OK \n",
            "Extracting  coco128/images/train2017/a (5).jpg                           \b\b\b\b 75%\b\b\b\b\b  OK \n",
            "Extracting  coco128/images/train2017/a (50).jpg                          \b\b\b\b 75%\b\b\b\b\b  OK \n",
            "Extracting  coco128/images/train2017/a (51).jpg                          \b\b\b\b 75%\b\b\b\b\b  OK \n",
            "Extracting  coco128/images/train2017/a (52).jpg                          \b\b\b\b 76%\b\b\b\b\b  OK \n",
            "Extracting  coco128/images/train2017/a (53).jpg                          \b\b\b\b 76%\b\b\b\b\b  OK \n",
            "Extracting  coco128/images/train2017/a (54).jpg                          \b\b\b\b 77%\b\b\b\b\b  OK \n",
            "Extracting  coco128/images/train2017/a (55).jpg                          \b\b\b\b 77%\b\b\b\b 78%\b\b\b\b\b  OK \n",
            "Extracting  coco128/images/train2017/a (56).jpg                          \b\b\b\b 78%\b\b\b\b\b  OK \n",
            "Extracting  coco128/images/train2017/a (57).jpg                          \b\b\b\b 79%\b\b\b\b\b  OK \n",
            "Extracting  coco128/images/train2017/a (58).jpg                          \b\b\b\b 79%\b\b\b\b\b  OK \n",
            "Extracting  coco128/images/train2017/a (59).jpg                          \b\b\b\b 80%\b\b\b\b\b  OK \n",
            "Extracting  coco128/images/train2017/a (6).jpg                           \b\b\b\b 80%\b\b\b\b\b  OK \n",
            "Extracting  coco128/images/train2017/a (60).jpg                          \b\b\b\b 81%\b\b\b\b\b  OK \n",
            "Extracting  coco128/images/train2017/a (61).jpg                          \b\b\b\b 82%\b\b\b\b\b  OK \n",
            "Extracting  coco128/images/train2017/a (62).jpg                          \b\b\b\b 82%\b\b\b\b\b  OK \n",
            "Extracting  coco128/images/train2017/a (63).jpg                          \b\b\b\b 82%\b\b\b\b\b  OK \n",
            "Extracting  coco128/images/train2017/a (64).jpg                          \b\b\b\b 82%\b\b\b\b\b  OK \n",
            "Extracting  coco128/images/train2017/a (65).jpg                          \b\b\b\b 83%\b\b\b\b\b  OK \n",
            "Extracting  coco128/images/train2017/a (66).jpg                          \b\b\b\b 83%\b\b\b\b\b  OK \n",
            "Extracting  coco128/images/train2017/a (67).jpg                          \b\b\b\b 84%\b\b\b\b\b  OK \n",
            "Extracting  coco128/images/train2017/a (68).jpg                          \b\b\b\b 84%\b\b\b\b 85%\b\b\b\b\b  OK \n",
            "Extracting  coco128/images/train2017/a (69).jpg                          \b\b\b\b 85%\b\b\b\b\b  OK \n",
            "Extracting  coco128/images/train2017/a (7).jpg                           \b\b\b\b 85%\b\b\b\b\b  OK \n",
            "Extracting  coco128/images/train2017/a (70).jpg                          \b\b\b\b 85%\b\b\b\b 86%\b\b\b\b\b  OK \n",
            "Extracting  coco128/images/train2017/a (71).jpg                          \b\b\b\b 86%\b\b\b\b\b  OK \n",
            "Extracting  coco128/images/train2017/a (72).jpg                          \b\b\b\b 86%\b\b\b\b 87%\b\b\b\b\b  OK \n",
            "Extracting  coco128/images/train2017/a (73).jpg                          \b\b\b\b 87%\b\b\b\b\b  OK \n",
            "Extracting  coco128/images/train2017/a (74).jpg                          \b\b\b\b 88%\b\b\b\b\b  OK \n",
            "Extracting  coco128/images/train2017/a (75).jpg                          \b\b\b\b 88%\b\b\b\b\b  OK \n",
            "Extracting  coco128/images/train2017/a (76).jpg                          \b\b\b\b 88%\b\b\b\b\b  OK \n",
            "Extracting  coco128/images/train2017/a (77).jpg                          \b\b\b\b 89%\b\b\b\b\b  OK \n",
            "Extracting  coco128/images/train2017/a (78).jpg                          \b\b\b\b 89%\b\b\b\b\b  OK \n",
            "Extracting  coco128/images/train2017/a (79).jpg                          \b\b\b\b 90%\b\b\b\b\b  OK \n",
            "Extracting  coco128/images/train2017/a (8).jpg                           \b\b\b\b 90%\b\b\b\b\b  OK \n",
            "Extracting  coco128/images/train2017/a (80).jpg                          \b\b\b\b 90%\b\b\b\b\b  OK \n",
            "Extracting  coco128/images/train2017/a (81).jpg                          \b\b\b\b 90%\b\b\b\b 91%\b\b\b\b\b  OK \n",
            "Extracting  coco128/images/train2017/a (82).jpg                          \b\b\b\b 91%\b\b\b\b\b  OK \n",
            "Extracting  coco128/images/train2017/a (83).jpg                          \b\b\b\b 91%\b\b\b\b\b  OK \n",
            "Extracting  coco128/images/train2017/a (84).jpg                          \b\b\b\b 91%\b\b\b\b\b  OK \n",
            "Extracting  coco128/images/train2017/a (85).jpg                          \b\b\b\b 91%\b\b\b\b 92%\b\b\b\b\b  OK \n",
            "Extracting  coco128/images/train2017/a (86).jpg                          \b\b\b\b 92%\b\b\b\b\b  OK \n",
            "Extracting  coco128/images/train2017/a (87).jpg                          \b\b\b\b 92%\b\b\b\b\b  OK \n",
            "Extracting  coco128/images/train2017/a (88).jpg                          \b\b\b\b 93%\b\b\b\b\b  OK \n",
            "Extracting  coco128/images/train2017/a (89).jpg                          \b\b\b\b 94%\b\b\b\b\b  OK \n",
            "Extracting  coco128/images/train2017/a (9).jpg                           \b\b\b\b 94%\b\b\b\b\b  OK \n",
            "Extracting  coco128/images/train2017/a (90).jpg                          \b\b\b\b 95%\b\b\b\b\b  OK \n",
            "Extracting  coco128/images/train2017/a (91).jpg                          \b\b\b\b 95%\b\b\b\b\b  OK \n",
            "Extracting  coco128/images/train2017/a (92).jpg                          \b\b\b\b 96%\b\b\b\b\b  OK \n",
            "Extracting  coco128/images/train2017/a (93).jpg                          \b\b\b\b 96%\b\b\b\b\b  OK \n",
            "Extracting  coco128/images/train2017/a (94).jpg                          \b\b\b\b 97%\b\b\b\b\b  OK \n",
            "Extracting  coco128/images/train2017/a (95).jpg                          \b\b\b\b 97%\b\b\b\b\b  OK \n",
            "Extracting  coco128/images/train2017/a (96).jpg                          \b\b\b\b 98%\b\b\b\b\b  OK \n",
            "Extracting  coco128/images/train2017/a (97).jpg                          \b\b\b\b 98%\b\b\b\b\b  OK \n",
            "Extracting  coco128/images/train2017/a (98).jpg                          \b\b\b\b 98%\b\b\b\b 99%\b\b\b\b\b  OK \n",
            "Extracting  coco128/images/train2017/a (99).jpg                          \b\b\b\b 99%\b\b\b\b\b  OK \n",
            "Creating    coco128/labels                                            OK\n",
            "Creating    coco128/labels/train2017                                  OK\n",
            "Extracting  coco128/labels/train2017/a (1).txt                           \b\b\b\b 99%\b\b\b\b\b  OK \n",
            "Extracting  coco128/labels/train2017/a (10).txt                          \b\b\b\b 99%\b\b\b\b\b  OK \n",
            "Extracting  coco128/labels/train2017/a (100).txt                         \b\b\b\b 99%\b\b\b\b\b  OK \n",
            "Extracting  coco128/labels/train2017/a (101).txt                         \b\b\b\b 99%\b\b\b\b\b  OK \n",
            "Extracting  coco128/labels/train2017/a (102).txt                         \b\b\b\b 99%\b\b\b\b\b  OK \n",
            "Extracting  coco128/labels/train2017/a (103).txt                         \b\b\b\b 99%\b\b\b\b\b  OK \n",
            "Extracting  coco128/labels/train2017/a (104).txt                         \b\b\b\b 99%\b\b\b\b\b  OK \n",
            "Extracting  coco128/labels/train2017/a (105).txt                         \b\b\b\b 99%\b\b\b\b\b  OK \n",
            "Extracting  coco128/labels/train2017/a (106).txt                         \b\b\b\b 99%\b\b\b\b\b  OK \n",
            "Extracting  coco128/labels/train2017/a (107).txt                         \b\b\b\b 99%\b\b\b\b\b  OK \n",
            "Extracting  coco128/labels/train2017/a (108).txt                         \b\b\b\b 99%\b\b\b\b\b  OK \n",
            "Extracting  coco128/labels/train2017/a (109).txt                         \b\b\b\b 99%\b\b\b\b\b  OK \n",
            "Extracting  coco128/labels/train2017/a (11).txt                          \b\b\b\b 99%\b\b\b\b\b  OK \n",
            "Extracting  coco128/labels/train2017/a (110).txt                         \b\b\b\b 99%\b\b\b\b\b  OK \n",
            "Extracting  coco128/labels/train2017/a (111).txt                         \b\b\b\b 99%\b\b\b\b\b  OK \n",
            "Extracting  coco128/labels/train2017/a (112).txt                         \b\b\b\b 99%\b\b\b\b\b  OK \n",
            "Extracting  coco128/labels/train2017/a (113).txt                         \b\b\b\b 99%\b\b\b\b\b  OK \n",
            "Extracting  coco128/labels/train2017/a (114).txt                         \b\b\b\b 99%\b\b\b\b\b  OK \n",
            "Extracting  coco128/labels/train2017/a (115).txt                         \b\b\b\b 99%\b\b\b\b\b  OK \n",
            "Extracting  coco128/labels/train2017/a (116).txt                         \b\b\b\b 99%\b\b\b\b\b  OK \n",
            "Extracting  coco128/labels/train2017/a (117).txt                         \b\b\b\b 99%\b\b\b\b\b  OK \n",
            "Extracting  coco128/labels/train2017/a (118).txt                         \b\b\b\b 99%\b\b\b\b\b  OK \n",
            "Extracting  coco128/labels/train2017/a (119).txt                         \b\b\b\b 99%\b\b\b\b\b  OK \n",
            "Extracting  coco128/labels/train2017/a (12).txt                          \b\b\b\b 99%\b\b\b\b\b  OK \n",
            "Extracting  coco128/labels/train2017/a (120).txt                         \b\b\b\b 99%\b\b\b\b\b  OK \n",
            "Extracting  coco128/labels/train2017/a (121).txt                         \b\b\b\b 99%\b\b\b\b\b  OK \n",
            "Extracting  coco128/labels/train2017/a (122).txt                         \b\b\b\b 99%\b\b\b\b\b  OK \n",
            "Extracting  coco128/labels/train2017/a (123).txt                         \b\b\b\b 99%\b\b\b\b\b  OK \n",
            "Extracting  coco128/labels/train2017/a (124).txt                         \b\b\b\b 99%\b\b\b\b\b  OK \n",
            "Extracting  coco128/labels/train2017/a (125).txt                         \b\b\b\b 99%\b\b\b\b\b  OK \n",
            "Extracting  coco128/labels/train2017/a (126).txt                         \b\b\b\b 99%\b\b\b\b\b  OK \n",
            "Extracting  coco128/labels/train2017/a (127).txt                         \b\b\b\b 99%\b\b\b\b\b  OK \n",
            "Extracting  coco128/labels/train2017/a (128).txt                         \b\b\b\b 99%\b\b\b\b\b  OK \n",
            "Extracting  coco128/labels/train2017/a (129).txt                         \b\b\b\b 99%\b\b\b\b\b  OK \n",
            "Extracting  coco128/labels/train2017/a (13).txt                          \b\b\b\b 99%\b\b\b\b\b  OK \n",
            "Extracting  coco128/labels/train2017/a (130).txt                         \b\b\b\b 99%\b\b\b\b\b  OK \n",
            "Extracting  coco128/labels/train2017/a (131).txt                         \b\b\b\b 99%\b\b\b\b\b  OK \n",
            "Extracting  coco128/labels/train2017/a (132).txt                         \b\b\b\b 99%\b\b\b\b\b  OK \n",
            "Extracting  coco128/labels/train2017/a (133).txt                         \b\b\b\b 99%\b\b\b\b\b  OK \n",
            "Extracting  coco128/labels/train2017/a (134).txt                         \b\b\b\b 99%\b\b\b\b\b  OK \n",
            "Extracting  coco128/labels/train2017/a (135).txt                         \b\b\b\b 99%\b\b\b\b\b  OK \n",
            "Extracting  coco128/labels/train2017/a (136).txt                         \b\b\b\b 99%\b\b\b\b\b  OK \n",
            "Extracting  coco128/labels/train2017/a (137).txt                         \b\b\b\b 99%\b\b\b\b\b  OK \n",
            "Extracting  coco128/labels/train2017/a (138).txt                         \b\b\b\b 99%\b\b\b\b\b  OK \n",
            "Extracting  coco128/labels/train2017/a (139).txt                         \b\b\b\b 99%\b\b\b\b\b  OK \n",
            "Extracting  coco128/labels/train2017/a (14).txt                          \b\b\b\b 99%\b\b\b\b\b  OK \n",
            "Extracting  coco128/labels/train2017/a (140).txt                         \b\b\b\b 99%\b\b\b\b\b  OK \n",
            "Extracting  coco128/labels/train2017/a (141).txt                         \b\b\b\b 99%\b\b\b\b\b  OK \n",
            "Extracting  coco128/labels/train2017/a (142).txt                         \b\b\b\b 99%\b\b\b\b\b  OK \n",
            "Extracting  coco128/labels/train2017/a (143).txt                         \b\b\b\b 99%\b\b\b\b\b  OK \n",
            "Extracting  coco128/labels/train2017/a (144).txt                         \b\b\b\b 99%\b\b\b\b\b  OK \n",
            "Extracting  coco128/labels/train2017/a (145).txt                         \b\b\b\b 99%\b\b\b\b\b  OK \n",
            "Extracting  coco128/labels/train2017/a (146).txt                         \b\b\b\b 99%\b\b\b\b\b  OK \n",
            "Extracting  coco128/labels/train2017/a (147).txt                         \b\b\b\b 99%\b\b\b\b\b  OK \n",
            "Extracting  coco128/labels/train2017/a (148).txt                         \b\b\b\b 99%\b\b\b\b\b  OK \n",
            "Extracting  coco128/labels/train2017/a (149).txt                         \b\b\b\b 99%\b\b\b\b\b  OK \n",
            "Extracting  coco128/labels/train2017/a (15).txt                          \b\b\b\b 99%\b\b\b\b\b  OK \n",
            "Extracting  coco128/labels/train2017/a (150).txt                         \b\b\b\b 99%\b\b\b\b\b  OK \n",
            "Extracting  coco128/labels/train2017/a (151).txt                         \b\b\b\b 99%\b\b\b\b\b  OK \n",
            "Extracting  coco128/labels/train2017/a (152).txt                         \b\b\b\b 99%\b\b\b\b\b  OK \n",
            "Extracting  coco128/labels/train2017/a (153).txt                         \b\b\b\b 99%\b\b\b\b\b  OK \n",
            "Extracting  coco128/labels/train2017/a (154).txt                         \b\b\b\b 99%\b\b\b\b\b  OK \n",
            "Extracting  coco128/labels/train2017/a (155).txt                         \b\b\b\b 99%\b\b\b\b\b  OK \n",
            "Extracting  coco128/labels/train2017/a (156).txt                         \b\b\b\b 99%\b\b\b\b\b  OK \n",
            "Extracting  coco128/labels/train2017/a (157).txt                         \b\b\b\b 99%\b\b\b\b\b  OK \n",
            "Extracting  coco128/labels/train2017/a (158).txt                         \b\b\b\b 99%\b\b\b\b\b  OK \n",
            "Extracting  coco128/labels/train2017/a (159).txt                         \b\b\b\b 99%\b\b\b\b\b  OK \n",
            "Extracting  coco128/labels/train2017/a (16).txt                          \b\b\b\b 99%\b\b\b\b\b  OK \n",
            "Extracting  coco128/labels/train2017/a (160).txt                         \b\b\b\b 99%\b\b\b\b\b  OK \n",
            "Extracting  coco128/labels/train2017/a (161).txt                         \b\b\b\b 99%\b\b\b\b\b  OK \n",
            "Extracting  coco128/labels/train2017/a (162).txt                         \b\b\b\b 99%\b\b\b\b\b  OK \n",
            "Extracting  coco128/labels/train2017/a (163).txt                         \b\b\b\b 99%\b\b\b\b\b  OK \n",
            "Extracting  coco128/labels/train2017/a (164).txt                         \b\b\b\b 99%\b\b\b\b\b  OK \n",
            "Extracting  coco128/labels/train2017/a (165).txt                         \b\b\b\b 99%\b\b\b\b\b  OK \n",
            "Extracting  coco128/labels/train2017/a (166).txt                         \b\b\b\b 99%\b\b\b\b\b  OK \n",
            "Extracting  coco128/labels/train2017/a (167).txt                         \b\b\b\b 99%\b\b\b\b\b  OK \n",
            "Extracting  coco128/labels/train2017/a (168).txt                         \b\b\b\b 99%\b\b\b\b\b  OK \n",
            "Extracting  coco128/labels/train2017/a (169).txt                         \b\b\b\b 99%\b\b\b\b\b  OK \n",
            "Extracting  coco128/labels/train2017/a (17).txt                          \b\b\b\b 99%\b\b\b\b\b  OK \n",
            "Extracting  coco128/labels/train2017/a (170).txt                         \b\b\b\b 99%\b\b\b\b\b  OK \n",
            "Extracting  coco128/labels/train2017/a (171).txt                         \b\b\b\b 99%\b\b\b\b\b  OK \n",
            "Extracting  coco128/labels/train2017/a (172).txt                         \b\b\b\b 99%\b\b\b\b\b  OK \n",
            "Extracting  coco128/labels/train2017/a (173).txt                         \b\b\b\b 99%\b\b\b\b\b  OK \n",
            "Extracting  coco128/labels/train2017/a (174).txt                         \b\b\b\b 99%\b\b\b\b\b  OK \n",
            "Extracting  coco128/labels/train2017/a (175).txt                         \b\b\b\b 99%\b\b\b\b\b  OK \n",
            "Extracting  coco128/labels/train2017/a (176).txt                         \b\b\b\b 99%\b\b\b\b\b  OK \n",
            "Extracting  coco128/labels/train2017/a (177).txt                         \b\b\b\b 99%\b\b\b\b\b  OK \n",
            "Extracting  coco128/labels/train2017/a (178).txt                         \b\b\b\b 99%\b\b\b\b\b  OK \n",
            "Extracting  coco128/labels/train2017/a (179).txt                         \b\b\b\b 99%\b\b\b\b\b  OK \n",
            "Extracting  coco128/labels/train2017/a (18).txt                          \b\b\b\b 99%\b\b\b\b\b  OK \n",
            "Extracting  coco128/labels/train2017/a (180).txt                         \b\b\b\b 99%\b\b\b\b\b  OK \n",
            "Extracting  coco128/labels/train2017/a (181).txt                         \b\b\b\b 99%\b\b\b\b\b  OK \n",
            "Extracting  coco128/labels/train2017/a (182).txt                         \b\b\b\b 99%\b\b\b\b\b  OK \n",
            "Extracting  coco128/labels/train2017/a (183).txt                         \b\b\b\b 99%\b\b\b\b\b  OK \n",
            "Extracting  coco128/labels/train2017/a (184).txt                         \b\b\b\b 99%\b\b\b\b\b  OK \n",
            "Extracting  coco128/labels/train2017/a (185).txt                         \b\b\b\b 99%\b\b\b\b\b  OK \n",
            "Extracting  coco128/labels/train2017/a (186).txt                         \b\b\b\b 99%\b\b\b\b\b  OK \n",
            "Extracting  coco128/labels/train2017/a (187).txt                         \b\b\b\b 99%\b\b\b\b\b  OK \n",
            "Extracting  coco128/labels/train2017/a (188).txt                         \b\b\b\b 99%\b\b\b\b\b  OK \n",
            "Extracting  coco128/labels/train2017/a (189).txt                         \b\b\b\b 99%\b\b\b\b\b  OK \n",
            "Extracting  coco128/labels/train2017/a (19).txt                          \b\b\b\b 99%\b\b\b\b\b  OK \n",
            "Extracting  coco128/labels/train2017/a (190).txt                         \b\b\b\b 99%\b\b\b\b\b  OK \n",
            "Extracting  coco128/labels/train2017/a (191).txt                         \b\b\b\b 99%\b\b\b\b\b  OK \n",
            "Extracting  coco128/labels/train2017/a (192).txt                         \b\b\b\b 99%\b\b\b\b\b  OK \n",
            "Extracting  coco128/labels/train2017/a (193).txt                         \b\b\b\b 99%\b\b\b\b\b  OK \n",
            "Extracting  coco128/labels/train2017/a (194).txt                         \b\b\b\b 99%\b\b\b\b\b  OK \n",
            "Extracting  coco128/labels/train2017/a (195).txt                         \b\b\b\b 99%\b\b\b\b\b  OK \n",
            "Extracting  coco128/labels/train2017/a (196).txt                         \b\b\b\b 99%\b\b\b\b\b  OK \n",
            "Extracting  coco128/labels/train2017/a (197).txt                         \b\b\b\b 99%\b\b\b\b\b  OK \n",
            "Extracting  coco128/labels/train2017/a (198).txt                         \b\b\b\b 99%\b\b\b\b\b  OK \n",
            "Extracting  coco128/labels/train2017/a (199).txt                         \b\b\b\b 99%\b\b\b\b\b  OK \n",
            "Extracting  coco128/labels/train2017/a (2).txt                           \b\b\b\b 99%\b\b\b\b\b  OK \n",
            "Extracting  coco128/labels/train2017/a (20).txt                          \b\b\b\b 99%\b\b\b\b\b  OK \n",
            "Extracting  coco128/labels/train2017/a (200).txt                         \b\b\b\b 99%\b\b\b\b\b  OK \n",
            "Extracting  coco128/labels/train2017/a (201).txt                         \b\b\b\b 99%\b\b\b\b\b  OK \n",
            "Extracting  coco128/labels/train2017/a (202).txt                         \b\b\b\b 99%\b\b\b\b\b  OK \n",
            "Extracting  coco128/labels/train2017/a (203).txt                         \b\b\b\b 99%\b\b\b\b\b  OK \n",
            "Extracting  coco128/labels/train2017/a (204).txt                         \b\b\b\b 99%\b\b\b\b\b  OK \n",
            "Extracting  coco128/labels/train2017/a (21).txt                          \b\b\b\b 99%\b\b\b\b\b  OK \n",
            "Extracting  coco128/labels/train2017/a (22).txt                          \b\b\b\b 99%\b\b\b\b\b  OK \n",
            "Extracting  coco128/labels/train2017/a (23).txt                          \b\b\b\b 99%\b\b\b\b\b  OK \n",
            "Extracting  coco128/labels/train2017/a (24).txt                          \b\b\b\b 99%\b\b\b\b\b  OK \n",
            "Extracting  coco128/labels/train2017/a (25).txt                          \b\b\b\b 99%\b\b\b\b\b  OK \n",
            "Extracting  coco128/labels/train2017/a (26).txt                          \b\b\b\b 99%\b\b\b\b\b  OK \n",
            "Extracting  coco128/labels/train2017/a (27).txt                          \b\b\b\b 99%\b\b\b\b\b  OK \n",
            "Extracting  coco128/labels/train2017/a (28).txt                          \b\b\b\b 99%\b\b\b\b\b  OK \n",
            "Extracting  coco128/labels/train2017/a (29).txt                          \b\b\b\b 99%\b\b\b\b\b  OK \n",
            "Extracting  coco128/labels/train2017/a (3).txt                           \b\b\b\b 99%\b\b\b\b\b  OK \n",
            "Extracting  coco128/labels/train2017/a (30).txt                          \b\b\b\b 99%\b\b\b\b\b  OK \n",
            "Extracting  coco128/labels/train2017/a (31).txt                          \b\b\b\b 99%\b\b\b\b\b  OK \n",
            "Extracting  coco128/labels/train2017/a (32).txt                          \b\b\b\b 99%\b\b\b\b\b  OK \n",
            "Extracting  coco128/labels/train2017/a (33).txt                          \b\b\b\b 99%\b\b\b\b\b  OK \n",
            "Extracting  coco128/labels/train2017/a (34).txt                          \b\b\b\b 99%\b\b\b\b\b  OK \n",
            "Extracting  coco128/labels/train2017/a (35).txt                          \b\b\b\b 99%\b\b\b\b\b  OK \n",
            "Extracting  coco128/labels/train2017/a (36).txt                          \b\b\b\b 99%\b\b\b\b\b  OK \n",
            "Extracting  coco128/labels/train2017/a (37).txt                          \b\b\b\b 99%\b\b\b\b\b  OK \n",
            "Extracting  coco128/labels/train2017/a (38).txt                          \b\b\b\b 99%\b\b\b\b\b  OK \n",
            "Extracting  coco128/labels/train2017/a (39).txt                          \b\b\b\b 99%\b\b\b\b\b  OK \n",
            "Extracting  coco128/labels/train2017/a (4).txt                           \b\b\b\b 99%\b\b\b\b\b  OK \n",
            "Extracting  coco128/labels/train2017/a (40).txt                          \b\b\b\b 99%\b\b\b\b\b  OK \n",
            "Extracting  coco128/labels/train2017/a (41).txt                          \b\b\b\b 99%\b\b\b\b\b  OK \n",
            "Extracting  coco128/labels/train2017/a (42).txt                          \b\b\b\b 99%\b\b\b\b\b  OK \n",
            "Extracting  coco128/labels/train2017/a (43).txt                          \b\b\b\b 99%\b\b\b\b\b  OK \n",
            "Extracting  coco128/labels/train2017/a (44).txt                          \b\b\b\b 99%\b\b\b\b\b  OK \n",
            "Extracting  coco128/labels/train2017/a (45).txt                          \b\b\b\b 99%\b\b\b\b\b  OK \n",
            "Extracting  coco128/labels/train2017/a (46).txt                          \b\b\b\b 99%\b\b\b\b\b  OK \n",
            "Extracting  coco128/labels/train2017/a (47).txt                          \b\b\b\b 99%\b\b\b\b\b  OK \n",
            "Extracting  coco128/labels/train2017/a (48).txt                          \b\b\b\b 99%\b\b\b\b\b  OK \n",
            "Extracting  coco128/labels/train2017/a (49).txt                          \b\b\b\b 99%\b\b\b\b\b  OK \n",
            "Extracting  coco128/labels/train2017/a (5).txt                           \b\b\b\b 99%\b\b\b\b\b  OK \n",
            "Extracting  coco128/labels/train2017/a (50).txt                          \b\b\b\b 99%\b\b\b\b\b  OK \n",
            "Extracting  coco128/labels/train2017/a (51).txt                          \b\b\b\b 99%\b\b\b\b\b  OK \n",
            "Extracting  coco128/labels/train2017/a (52).txt                          \b\b\b\b 99%\b\b\b\b\b  OK \n",
            "Extracting  coco128/labels/train2017/a (53).txt                          \b\b\b\b 99%\b\b\b\b\b  OK \n",
            "Extracting  coco128/labels/train2017/a (54).txt                          \b\b\b\b 99%\b\b\b\b\b  OK \n",
            "Extracting  coco128/labels/train2017/a (55).txt                          \b\b\b\b 99%\b\b\b\b\b  OK \n",
            "Extracting  coco128/labels/train2017/a (56).txt                          \b\b\b\b 99%\b\b\b\b\b  OK \n",
            "Extracting  coco128/labels/train2017/a (57).txt                          \b\b\b\b 99%\b\b\b\b\b  OK \n",
            "Extracting  coco128/labels/train2017/a (58).txt                          \b\b\b\b 99%\b\b\b\b\b  OK \n",
            "Extracting  coco128/labels/train2017/a (59).txt                          \b\b\b\b 99%\b\b\b\b\b  OK \n",
            "Extracting  coco128/labels/train2017/a (6).txt                           \b\b\b\b 99%\b\b\b\b\b  OK \n",
            "Extracting  coco128/labels/train2017/a (60).txt                          \b\b\b\b 99%\b\b\b\b\b  OK \n",
            "Extracting  coco128/labels/train2017/a (61).txt                          \b\b\b\b 99%\b\b\b\b\b  OK \n",
            "Extracting  coco128/labels/train2017/a (62).txt                          \b\b\b\b 99%\b\b\b\b\b  OK \n",
            "Extracting  coco128/labels/train2017/a (63).txt                          \b\b\b\b 99%\b\b\b\b\b  OK \n",
            "Extracting  coco128/labels/train2017/a (64).txt                          \b\b\b\b 99%\b\b\b\b\b  OK \n",
            "Extracting  coco128/labels/train2017/a (65).txt                          \b\b\b\b 99%\b\b\b\b\b  OK \n",
            "Extracting  coco128/labels/train2017/a (66).txt                          \b\b\b\b 99%\b\b\b\b\b  OK \n",
            "Extracting  coco128/labels/train2017/a (67).txt                          \b\b\b\b 99%\b\b\b\b\b  OK \n",
            "Extracting  coco128/labels/train2017/a (68).txt                          \b\b\b\b 99%\b\b\b\b\b  OK \n",
            "Extracting  coco128/labels/train2017/a (69).txt                          \b\b\b\b 99%\b\b\b\b\b  OK \n",
            "Extracting  coco128/labels/train2017/a (7).txt                           \b\b\b\b 99%\b\b\b\b\b  OK \n",
            "Extracting  coco128/labels/train2017/a (70).txt                          \b\b\b\b 99%\b\b\b\b\b  OK \n",
            "Extracting  coco128/labels/train2017/a (71).txt                          \b\b\b\b 99%\b\b\b\b\b  OK \n",
            "Extracting  coco128/labels/train2017/a (72).txt                          \b\b\b\b 99%\b\b\b\b\b  OK \n",
            "Extracting  coco128/labels/train2017/a (73).txt                          \b\b\b\b 99%\b\b\b\b\b  OK \n",
            "Extracting  coco128/labels/train2017/a (74).txt                          \b\b\b\b 99%\b\b\b\b\b  OK \n",
            "Extracting  coco128/labels/train2017/a (75).txt                          \b\b\b\b 99%\b\b\b\b\b  OK \n",
            "Extracting  coco128/labels/train2017/a (76).txt                          \b\b\b\b 99%\b\b\b\b\b  OK \n",
            "Extracting  coco128/labels/train2017/a (77).txt                          \b\b\b\b 99%\b\b\b\b\b  OK \n",
            "Extracting  coco128/labels/train2017/a (78).txt                          \b\b\b\b 99%\b\b\b\b\b  OK \n",
            "Extracting  coco128/labels/train2017/a (79).txt                          \b\b\b\b 99%\b\b\b\b\b  OK \n",
            "Extracting  coco128/labels/train2017/a (8).txt                           \b\b\b\b 99%\b\b\b\b\b  OK \n",
            "Extracting  coco128/labels/train2017/a (80).txt                          \b\b\b\b 99%\b\b\b\b\b  OK \n",
            "Extracting  coco128/labels/train2017/a (81).txt                          \b\b\b\b 99%\b\b\b\b\b  OK \n",
            "Extracting  coco128/labels/train2017/a (82).txt                          \b\b\b\b 99%\b\b\b\b\b  OK \n",
            "Extracting  coco128/labels/train2017/a (83).txt                          \b\b\b\b 99%\b\b\b\b\b  OK \n",
            "Extracting  coco128/labels/train2017/a (84).txt                          \b\b\b\b 99%\b\b\b\b\b  OK \n",
            "Extracting  coco128/labels/train2017/a (85).txt                          \b\b\b\b 99%\b\b\b\b\b  OK \n",
            "Extracting  coco128/labels/train2017/a (86).txt                          \b\b\b\b 99%\b\b\b\b\b  OK \n",
            "Extracting  coco128/labels/train2017/a (87).txt                          \b\b\b\b 99%\b\b\b\b\b  OK \n",
            "Extracting  coco128/labels/train2017/a (88).txt                          \b\b\b\b 99%\b\b\b\b\b  OK \n",
            "Extracting  coco128/labels/train2017/a (89).txt                          \b\b\b\b 99%\b\b\b\b\b  OK \n",
            "Extracting  coco128/labels/train2017/a (9).txt                           \b\b\b\b 99%\b\b\b\b\b  OK \n",
            "Extracting  coco128/labels/train2017/a (90).txt                          \b\b\b\b 99%\b\b\b\b\b  OK \n",
            "Extracting  coco128/labels/train2017/a (91).txt                          \b\b\b\b 99%\b\b\b\b\b  OK \n",
            "Extracting  coco128/labels/train2017/a (92).txt                          \b\b\b\b 99%\b\b\b\b\b  OK \n",
            "Extracting  coco128/labels/train2017/a (93).txt                          \b\b\b\b 99%\b\b\b\b\b  OK \n",
            "Extracting  coco128/labels/train2017/a (94).txt                          \b\b\b\b 99%\b\b\b\b\b  OK \n",
            "Extracting  coco128/labels/train2017/a (95).txt                          \b\b\b\b 99%\b\b\b\b\b  OK \n",
            "Extracting  coco128/labels/train2017/a (96).txt                          \b\b\b\b 99%\b\b\b\b\b  OK \n",
            "Extracting  coco128/labels/train2017/a (97).txt                          \b\b\b\b 99%\b\b\b\b\b  OK \n",
            "Extracting  coco128/labels/train2017/a (98).txt                          \b\b\b\b 99%\b\b\b\b\b  OK \n",
            "Extracting  coco128/labels/train2017/a (99).txt                          \b\b\b\b 99%\b\b\b\b\b  OK \n",
            "Extracting  coco128/labels/train2017/labels_my-project-name_2024-06-19-06-36-58.zip     \b\b\b\b 99%\b\b\b\b\b  OK \n",
            "Extracting  coco128/labels/train2017/labels_my-project-name_2024-06-19-07-11-40.zip     \b\b\b\b 99%\b\b\b\b\b  OK \n",
            "Extracting  coco128/labels/train2017/labels_my-project-name_2024-06-22-07-22-53.zip     \b\b\b\b 99%\b\b\b\b\b  OK \n",
            "All OK\n"
          ]
        }
      ]
    },
    {
      "cell_type": "markdown",
      "metadata": {
        "id": "ZY2VXXXu74w5"
      },
      "source": [
        "# 3. Train\n",
        "\n",
        "<p align=\"\"><a href=\"https://ultralytics.com/hub\"><img width=\"1000\" src=\"https://github.com/ultralytics/assets/raw/main/yolov8/banner-integrations.png\"/></a></p>\n",
        "\n",
        "Train YOLO11 on [Detect](https://docs.ultralytics.com/tasks/detect/), [Segment](https://docs.ultralytics.com/tasks/segment/), [Classify](https://docs.ultralytics.com/tasks/classify/) and [Pose](https://docs.ultralytics.com/tasks/pose/) datasets. See [YOLO11 Train Docs](https://docs.ultralytics.com/modes/train/) for more information."
      ]
    },
    {
      "cell_type": "code",
      "source": [
        "#@title Select YOLO11 🚀 logger {run: 'auto'}\n",
        "logger = 'Comet' #@param ['Comet', 'TensorBoard']\n",
        "\n",
        "if logger == 'Comet':\n",
        "  %pip install -q comet_ml\n",
        "  import comet_ml; comet_ml.init()\n",
        "elif logger == 'TensorBoard':\n",
        "  %load_ext tensorboard\n",
        "  %tensorboard --logdir ."
      ],
      "metadata": {
        "id": "ktegpM42AooT"
      },
      "execution_count": null,
      "outputs": []
    },
    {
      "cell_type": "code",
      "metadata": {
        "id": "1NcFxRcFdJ_O",
        "outputId": "9b28a658-5f0c-4151-98a0-580922fc557d",
        "colab": {
          "base_uri": "https://localhost:8080/"
        }
      },
      "source": [
        "# Train YOLO11n on COCO8 for 3 epochs\n",
        "!yolo train model=/content/runs/detect/train/weights/last.pt data=/content/coco128.yaml epochs=10 imgsz=640"
      ],
      "execution_count": 8,
      "outputs": [
        {
          "output_type": "stream",
          "name": "stdout",
          "text": [
            "Ultralytics 8.3.23 🚀 Python-3.10.12 torch-2.5.0+cu121 CPU (Intel Xeon 2.20GHz)\n",
            "\u001b[34m\u001b[1mengine/trainer: \u001b[0mtask=detect, mode=train, model=/content/runs/detect/train/weights/last.pt, data=/content/coco128.yaml, epochs=10, time=None, patience=100, batch=16, imgsz=640, save=True, save_period=-1, cache=False, device=None, workers=8, project=None, name=train2, exist_ok=False, pretrained=True, optimizer=auto, verbose=True, seed=0, deterministic=True, single_cls=False, rect=False, cos_lr=False, close_mosaic=10, resume=False, amp=True, fraction=1.0, profile=False, freeze=None, multi_scale=False, overlap_mask=True, mask_ratio=4, dropout=0.0, val=True, split=val, save_json=False, save_hybrid=False, conf=None, iou=0.7, max_det=300, half=False, dnn=False, plots=True, source=None, vid_stride=1, stream_buffer=False, visualize=False, augment=False, agnostic_nms=False, classes=None, retina_masks=False, embed=None, show=False, save_frames=False, save_txt=False, save_conf=False, save_crop=False, show_labels=True, show_conf=True, show_boxes=True, line_width=None, format=torchscript, keras=False, optimize=False, int8=False, dynamic=False, simplify=True, opset=None, workspace=4, nms=False, lr0=0.01, lrf=0.01, momentum=0.937, weight_decay=0.0005, warmup_epochs=3.0, warmup_momentum=0.8, warmup_bias_lr=0.1, box=7.5, cls=0.5, dfl=1.5, pose=12.0, kobj=1.0, label_smoothing=0.0, nbs=64, hsv_h=0.015, hsv_s=0.7, hsv_v=0.4, degrees=0.0, translate=0.1, scale=0.5, shear=0.0, perspective=0.0, flipud=0.0, fliplr=0.5, bgr=0.0, mosaic=1.0, mixup=0.0, copy_paste=0.0, copy_paste_mode=flip, auto_augment=randaugment, erasing=0.4, crop_fraction=1.0, cfg=None, tracker=botsort.yaml, save_dir=runs/detect/train2\n",
            "\n",
            "                   from  n    params  module                                       arguments                     \n",
            "  0                  -1  1       464  ultralytics.nn.modules.conv.Conv             [3, 16, 3, 2]                 \n",
            "  1                  -1  1      4672  ultralytics.nn.modules.conv.Conv             [16, 32, 3, 2]                \n",
            "  2                  -1  1      7360  ultralytics.nn.modules.block.C2f             [32, 32, 1, True]             \n",
            "  3                  -1  1     18560  ultralytics.nn.modules.conv.Conv             [32, 64, 3, 2]                \n",
            "  4                  -1  2     49664  ultralytics.nn.modules.block.C2f             [64, 64, 2, True]             \n",
            "  5                  -1  1     73984  ultralytics.nn.modules.conv.Conv             [64, 128, 3, 2]               \n",
            "  6                  -1  2    197632  ultralytics.nn.modules.block.C2f             [128, 128, 2, True]           \n",
            "  7                  -1  1    295424  ultralytics.nn.modules.conv.Conv             [128, 256, 3, 2]              \n",
            "  8                  -1  1    460288  ultralytics.nn.modules.block.C2f             [256, 256, 1, True]           \n",
            "  9                  -1  1    164608  ultralytics.nn.modules.block.SPPF            [256, 256, 5]                 \n",
            " 10                  -1  1         0  torch.nn.modules.upsampling.Upsample         [None, 2, 'nearest']          \n",
            " 11             [-1, 6]  1         0  ultralytics.nn.modules.conv.Concat           [1]                           \n",
            " 12                  -1  1    148224  ultralytics.nn.modules.block.C2f             [384, 128, 1]                 \n",
            " 13                  -1  1         0  torch.nn.modules.upsampling.Upsample         [None, 2, 'nearest']          \n",
            " 14             [-1, 4]  1         0  ultralytics.nn.modules.conv.Concat           [1]                           \n",
            " 15                  -1  1     37248  ultralytics.nn.modules.block.C2f             [192, 64, 1]                  \n",
            " 16                  -1  1     36992  ultralytics.nn.modules.conv.Conv             [64, 64, 3, 2]                \n",
            " 17            [-1, 12]  1         0  ultralytics.nn.modules.conv.Concat           [1]                           \n",
            " 18                  -1  1    123648  ultralytics.nn.modules.block.C2f             [192, 128, 1]                 \n",
            " 19                  -1  1    147712  ultralytics.nn.modules.conv.Conv             [128, 128, 3, 2]              \n",
            " 20             [-1, 9]  1         0  ultralytics.nn.modules.conv.Concat           [1]                           \n",
            " 21                  -1  1    493056  ultralytics.nn.modules.block.C2f             [384, 256, 1]                 \n",
            " 22        [15, 18, 21]  1    751507  ultralytics.nn.modules.head.Detect           [1, [64, 128, 256]]           \n",
            "Model summary: 225 layers, 3,011,043 parameters, 3,011,027 gradients, 8.2 GFLOPs\n",
            "\n",
            "Transferred 355/355 items from pretrained weights\n",
            "\u001b[34m\u001b[1mTensorBoard: \u001b[0mStart with 'tensorboard --logdir runs/detect/train2', view at http://localhost:6006/\n",
            "Freezing layer 'model.22.dfl.conv.weight'\n",
            "\u001b[34m\u001b[1mtrain: \u001b[0mScanning /content/coco128/labels/train2017.cache... 204 images, 0 backgrounds, 0 corrupt: 100% 204/204 [00:00<?, ?it/s]\n",
            "/usr/local/lib/python3.10/dist-packages/albumentations/__init__.py:13: UserWarning: A new version of Albumentations is available: 1.4.20 (you have 1.4.15). Upgrade using: pip install -U albumentations. To disable automatic update checks, set the environment variable NO_ALBUMENTATIONS_UPDATE to 1.\n",
            "  check_for_updates()\n",
            "\u001b[34m\u001b[1malbumentations: \u001b[0mBlur(p=0.01, blur_limit=(3, 7)), MedianBlur(p=0.01, blur_limit=(3, 7)), ToGray(p=0.01, num_output_channels=3, method='weighted_average'), CLAHE(p=0.01, clip_limit=(1, 4.0), tile_grid_size=(8, 8))\n",
            "\u001b[34m\u001b[1mval: \u001b[0mScanning /content/coco128/labels/train2017.cache... 204 images, 0 backgrounds, 0 corrupt: 100% 204/204 [00:00<?, ?it/s]\n",
            "Plotting labels to runs/detect/train2/labels.jpg... \n",
            "\u001b[34m\u001b[1moptimizer:\u001b[0m 'optimizer=auto' found, ignoring 'lr0=0.01' and 'momentum=0.937' and determining best 'optimizer', 'lr0' and 'momentum' automatically... \n",
            "\u001b[34m\u001b[1moptimizer:\u001b[0m AdamW(lr=0.002, momentum=0.9) with parameter groups 57 weight(decay=0.0), 64 weight(decay=0.0005), 63 bias(decay=0.0)\n",
            "\u001b[34m\u001b[1mTensorBoard: \u001b[0mmodel graph visualization added ✅\n",
            "Image sizes 640 train, 640 val\n",
            "Using 0 dataloader workers\n",
            "Logging results to \u001b[1mruns/detect/train2\u001b[0m\n",
            "Starting training for 10 epochs...\n",
            "Closing dataloader mosaic\n",
            "\u001b[34m\u001b[1malbumentations: \u001b[0mBlur(p=0.01, blur_limit=(3, 7)), MedianBlur(p=0.01, blur_limit=(3, 7)), ToGray(p=0.01, num_output_channels=3, method='weighted_average'), CLAHE(p=0.01, clip_limit=(1, 4.0), tile_grid_size=(8, 8))\n",
            "\n",
            "      Epoch    GPU_mem   box_loss   cls_loss   dfl_loss  Instances       Size\n",
            "       1/10         0G     0.6332     0.8632     0.9565         55        640: 100% 13/13 [03:09<00:00, 14.55s/it]\n",
            "                 Class     Images  Instances      Box(P          R      mAP50  mAP50-95): 100% 7/7 [00:55<00:00,  8.00s/it]\n",
            "                   all        204        896      0.959      0.826       0.95      0.794\n",
            "\n",
            "      Epoch    GPU_mem   box_loss   cls_loss   dfl_loss  Instances       Size\n",
            "       2/10         0G     0.6481     0.8099     0.9433         29        640: 100% 13/13 [03:00<00:00, 13.90s/it]\n",
            "                 Class     Images  Instances      Box(P          R      mAP50  mAP50-95): 100% 7/7 [00:55<00:00,  7.96s/it]\n",
            "                   all        204        896      0.962      0.895      0.977      0.826\n",
            "\n",
            "      Epoch    GPU_mem   box_loss   cls_loss   dfl_loss  Instances       Size\n",
            "       3/10         0G     0.6639     0.7866     0.9451         68        640: 100% 13/13 [03:04<00:00, 14.16s/it]\n",
            "                 Class     Images  Instances      Box(P          R      mAP50  mAP50-95): 100% 7/7 [00:54<00:00,  7.75s/it]\n",
            "                   all        204        896      0.962      0.927      0.977      0.805\n",
            "\n",
            "      Epoch    GPU_mem   box_loss   cls_loss   dfl_loss  Instances       Size\n",
            "       4/10         0G     0.6607     0.7324     0.9499         66        640: 100% 13/13 [03:11<00:00, 14.75s/it]\n",
            "                 Class     Images  Instances      Box(P          R      mAP50  mAP50-95): 100% 7/7 [00:56<00:00,  8.01s/it]\n",
            "                   all        204        896       0.98      0.865      0.969      0.809\n",
            "\n",
            "      Epoch    GPU_mem   box_loss   cls_loss   dfl_loss  Instances       Size\n",
            "       5/10         0G     0.6395     0.7039     0.9489         60        640: 100% 13/13 [03:02<00:00, 14.04s/it]\n",
            "                 Class     Images  Instances      Box(P          R      mAP50  mAP50-95): 100% 7/7 [00:59<00:00,  8.43s/it]\n",
            "                   all        204        896      0.981       0.74      0.915      0.744\n",
            "\n",
            "      Epoch    GPU_mem   box_loss   cls_loss   dfl_loss  Instances       Size\n",
            "       6/10         0G     0.6434     0.6908       0.95         61        640: 100% 13/13 [03:02<00:00, 14.02s/it]\n",
            "                 Class     Images  Instances      Box(P          R      mAP50  mAP50-95): 100% 7/7 [00:57<00:00,  8.14s/it]\n",
            "                   all        204        896      0.929      0.877      0.944      0.767\n",
            "\n",
            "      Epoch    GPU_mem   box_loss   cls_loss   dfl_loss  Instances       Size\n",
            "       7/10         0G     0.6347     0.6303     0.9283         64        640: 100% 13/13 [02:59<00:00, 13.84s/it]\n",
            "                 Class     Images  Instances      Box(P          R      mAP50  mAP50-95): 100% 7/7 [00:55<00:00,  7.96s/it]\n",
            "                   all        204        896      0.925      0.924      0.959      0.809\n",
            "\n",
            "      Epoch    GPU_mem   box_loss   cls_loss   dfl_loss  Instances       Size\n",
            "       8/10         0G     0.6102     0.6385     0.9302         47        640: 100% 13/13 [03:01<00:00, 13.97s/it]\n",
            "                 Class     Images  Instances      Box(P          R      mAP50  mAP50-95): 100% 7/7 [00:56<00:00,  8.12s/it]\n",
            "                   all        204        896      0.968      0.953      0.985      0.838\n",
            "\n",
            "      Epoch    GPU_mem   box_loss   cls_loss   dfl_loss  Instances       Size\n",
            "       9/10         0G     0.6049     0.6193      0.923         64        640: 100% 13/13 [02:59<00:00, 13.84s/it]\n",
            "                 Class     Images  Instances      Box(P          R      mAP50  mAP50-95): 100% 7/7 [00:56<00:00,  8.12s/it]\n",
            "                   all        204        896      0.978      0.972      0.992      0.857\n",
            "\n",
            "      Epoch    GPU_mem   box_loss   cls_loss   dfl_loss  Instances       Size\n",
            "      10/10         0G     0.5903     0.5774      0.911         52        640: 100% 13/13 [03:00<00:00, 13.88s/it]\n",
            "                 Class     Images  Instances      Box(P          R      mAP50  mAP50-95): 100% 7/7 [00:56<00:00,  8.02s/it]\n",
            "                   all        204        896      0.977      0.982      0.992      0.861\n",
            "\n",
            "10 epochs completed in 0.670 hours.\n",
            "Optimizer stripped from runs/detect/train2/weights/last.pt, 6.2MB\n",
            "Optimizer stripped from runs/detect/train2/weights/best.pt, 6.2MB\n",
            "\n",
            "Validating runs/detect/train2/weights/best.pt...\n",
            "Ultralytics 8.3.23 🚀 Python-3.10.12 torch-2.5.0+cu121 CPU (Intel Xeon 2.20GHz)\n",
            "Model summary (fused): 168 layers, 3,005,843 parameters, 0 gradients, 8.1 GFLOPs\n",
            "                 Class     Images  Instances      Box(P          R      mAP50  mAP50-95): 100% 7/7 [00:51<00:00,  7.38s/it]\n",
            "                   all        204        896      0.978      0.982      0.992      0.861\n",
            "Speed: 2.9ms preprocess, 233.2ms inference, 0.0ms loss, 4.6ms postprocess per image\n",
            "Results saved to \u001b[1mruns/detect/train2\u001b[0m\n",
            "💡 Learn more at https://docs.ultralytics.com/modes/train\n"
          ]
        }
      ]
    },
    {
      "cell_type": "code",
      "source": [
        "from google.colab import drive\n",
        "drive.mount('/content/drive')"
      ],
      "metadata": {
        "colab": {
          "base_uri": "https://localhost:8080/"
        },
        "id": "t4C5CXDqLFcP",
        "outputId": "a9e2f61a-ef53-4619-f4c8-7a604544422d"
      },
      "execution_count": 7,
      "outputs": [
        {
          "output_type": "stream",
          "name": "stdout",
          "text": [
            "Drive already mounted at /content/drive; to attempt to forcibly remount, call drive.mount(\"/content/drive\", force_remount=True).\n"
          ]
        }
      ]
    },
    {
      "cell_type": "code",
      "source": [],
      "metadata": {
        "id": "VhBaTt7RSWjw"
      },
      "execution_count": null,
      "outputs": []
    },
    {
      "cell_type": "markdown",
      "source": [
        "# 4. Export\n",
        "\n",
        "Export a YOLO11 model to any supported format below with the `format` argument, i.e. `format=onnx`. See [YOLO11 Export Docs](https://docs.ultralytics.com/modes/export/) for more information.\n",
        "\n",
        "- 💡 ProTip: Export to [ONNX](https://docs.ultralytics.com/integrations/onnx/) or [OpenVINO](https://docs.ultralytics.com/integrations/openvino/) for up to 3x CPU speedup.  \n",
        "- 💡 ProTip: Export to [TensorRT](https://docs.ultralytics.com/integrations/tensorrt/) for up to 5x GPU speedup.\n",
        "\n",
        "| Format                                                                   | `format` Argument | Model                     | Metadata | Arguments                                                            |\n",
        "|--------------------------------------------------------------------------|-------------------|---------------------------|----------|----------------------------------------------------------------------|\n",
        "| [PyTorch](https://pytorch.org/)                                          | -                 | `yolo11n.pt`              | ✅        | -                                                                    |\n",
        "| [TorchScript](https://docs.ultralytics.com/integrations/torchscript)     | `torchscript`     | `yolo11n.torchscript`     | ✅        | `imgsz`, `optimize`, `batch`                                         |\n",
        "| [ONNX](https://docs.ultralytics.com/integrations/onnx)                   | `onnx`            | `yolo11n.onnx`            | ✅        | `imgsz`, `half`, `dynamic`, `simplify`, `opset`, `batch`             |\n",
        "| [OpenVINO](https://docs.ultralytics.com/integrations/openvino)           | `openvino`        | `yolo11n_openvino_model/` | ✅        | `imgsz`, `half`, `int8`, `batch`                                     |\n",
        "| [TensorRT](https://docs.ultralytics.com/integrations/tensorrt)           | `engine`          | `yolo11n.engine`          | ✅        | `imgsz`, `half`, `dynamic`, `simplify`, `workspace`, `int8`, `batch` |\n",
        "| [CoreML](https://docs.ultralytics.com/integrations/coreml)               | `coreml`          | `yolo11n.mlpackage`       | ✅        | `imgsz`, `half`, `int8`, `nms`, `batch`                              |\n",
        "| [TF SavedModel](https://docs.ultralytics.com/integrations/tf-savedmodel) | `saved_model`     | `yolo11n_saved_model/`    | ✅        | `imgsz`, `keras`, `int8`, `batch`                                    |\n",
        "| [TF GraphDef](https://docs.ultralytics.com/integrations/tf-graphdef)     | `pb`              | `yolo11n.pb`              | ❌        | `imgsz`, `batch`                                                     |\n",
        "| [TF Lite](https://docs.ultralytics.com/integrations/tflite)              | `tflite`          | `yolo11n.tflite`          | ✅        | `imgsz`, `half`, `int8`, `batch`                                     |\n",
        "| [TF Edge TPU](https://docs.ultralytics.com/integrations/edge-tpu)        | `edgetpu`         | `yolo11n_edgetpu.tflite`  | ✅        | `imgsz`                                                              |\n",
        "| [TF.js](https://docs.ultralytics.com/integrations/tfjs)                  | `tfjs`            | `yolo11n_web_model/`      | ✅        | `imgsz`, `half`, `int8`, `batch`                                     |\n",
        "| [PaddlePaddle](https://docs.ultralytics.com/integrations/paddlepaddle)   | `paddle`          | `yolo11n_paddle_model/`   | ✅        | `imgsz`, `batch`                                                     |\n",
        "| [NCNN](https://docs.ultralytics.com/integrations/ncnn)                   | `ncnn`            | `yolo11n_ncnn_model/`     | ✅        | `imgsz`, `half`, `batch`                                             |"
      ],
      "metadata": {
        "id": "nPZZeNrLCQG6"
      }
    },
    {
      "cell_type": "code",
      "source": [
        "!yolo export model=yolo11n.pt format=torchscript"
      ],
      "metadata": {
        "colab": {
          "base_uri": "https://localhost:8080/"
        },
        "id": "CYIjW4igCjqD",
        "outputId": "5357fa04-6749-4508-effe-8d4078533539"
      },
      "execution_count": null,
      "outputs": [
        {
          "output_type": "stream",
          "name": "stdout",
          "text": [
            "Ultralytics 8.3.2 🚀 Python-3.10.12 torch-2.4.1+cu121 CPU (Intel Xeon 2.20GHz)\n",
            "YOLO11n summary (fused): 238 layers, 2,616,248 parameters, 0 gradients, 6.5 GFLOPs\n",
            "\n",
            "\u001b[34m\u001b[1mPyTorch:\u001b[0m starting from 'yolo11n.pt' with input shape (1, 3, 640, 640) BCHW and output shape(s) (1, 84, 8400) (5.4 MB)\n",
            "\n",
            "\u001b[34m\u001b[1mTorchScript:\u001b[0m starting export with torch 2.4.1+cu121...\n",
            "\u001b[34m\u001b[1mTorchScript:\u001b[0m export success ✅ 2.4s, saved as 'yolo11n.torchscript' (10.5 MB)\n",
            "\n",
            "Export complete (4.2s)\n",
            "Results saved to \u001b[1m/content\u001b[0m\n",
            "Predict:         yolo predict task=detect model=yolo11n.torchscript imgsz=640  \n",
            "Validate:        yolo val task=detect model=yolo11n.torchscript imgsz=640 data=coco.yaml  \n",
            "Visualize:       https://netron.app\n",
            "💡 Learn more at https://docs.ultralytics.com/modes/export\n"
          ]
        }
      ]
    },
    {
      "cell_type": "markdown",
      "source": [
        "# 5. Python Usage\n",
        "\n",
        "YOLO11 was reimagined using Python-first principles for the most seamless Python YOLO experience yet. YOLO11 models can be loaded from a trained checkpoint or created from scratch. Then methods are used to train, val, predict, and export the model. See detailed Python usage examples in the [YOLO11 Python Docs](https://docs.ultralytics.com/usage/python/)."
      ],
      "metadata": {
        "id": "kUMOQ0OeDBJG"
      }
    },
    {
      "cell_type": "code",
      "source": [
        "from ultralytics import YOLO\n",
        "\n",
        "# Load a model\n",
        "model = YOLO('yolo11n.yaml')  # build a new model from scratch\n",
        "model = YOLO('yolo11n.pt')  # load a pretrained model (recommended for training)\n",
        "\n",
        "# Use the model\n",
        "results = model.train(data='coco8.yaml', epochs=3)  # train the model\n",
        "results = model.val()  # evaluate model performance on the validation set\n",
        "results = model('https://ultralytics.com/images/bus.jpg')  # predict on an image\n",
        "results = model.export(format='onnx')  # export the model to ONNX format"
      ],
      "metadata": {
        "id": "bpF9-vS_DAaf"
      },
      "execution_count": null,
      "outputs": []
    },
    {
      "cell_type": "markdown",
      "source": [
        "# 6. Tasks\n",
        "\n",
        "YOLO11 can train, val, predict and export models for the most common tasks in vision AI: [Detect](https://docs.ultralytics.com/tasks/detect/), [Segment](https://docs.ultralytics.com/tasks/segment/), [Classify](https://docs.ultralytics.com/tasks/classify/) and [Pose](https://docs.ultralytics.com/tasks/pose/). See [YOLO11 Tasks Docs](https://docs.ultralytics.com/tasks/) for more information.\n",
        "\n",
        "<br><img width=\"1024\" src=\"https://raw.githubusercontent.com/ultralytics/assets/main/im/banner-tasks.png\">\n"
      ],
      "metadata": {
        "id": "Phm9ccmOKye5"
      }
    },
    {
      "cell_type": "markdown",
      "source": [
        "## 1. Detection\n",
        "\n",
        "YOLO11 _detection_ models have no suffix and are the default YOLO11 models, i.e. `yolo11n.pt` and are pretrained on COCO. See [Detection Docs](https://docs.ultralytics.com/tasks/detect/) for full details.\n"
      ],
      "metadata": {
        "id": "yq26lwpYK1lq"
      }
    },
    {
      "cell_type": "code",
      "source": [
        "# Load YOLO11n, train it on COCO128 for 3 epochs and predict an image with it\n",
        "from ultralytics import YOLO\n",
        "\n",
        "model = YOLO('yolo11n.pt')  # load a pretrained YOLO detection model\n",
        "model.train(data='coco8.yaml', epochs=3)  # train the model\n",
        "model('https://ultralytics.com/images/bus.jpg')  # predict on an image"
      ],
      "metadata": {
        "id": "8Go5qqS9LbC5"
      },
      "execution_count": null,
      "outputs": []
    },
    {
      "cell_type": "markdown",
      "source": [
        "## 2. Segmentation\n",
        "\n",
        "YOLO11 _segmentation_ models use the `-seg` suffix, i.e. `yolo11n-seg.pt` and are pretrained on COCO. See [Segmentation Docs](https://docs.ultralytics.com/tasks/segment/) for full details.\n"
      ],
      "metadata": {
        "id": "7ZW58jUzK66B"
      }
    },
    {
      "cell_type": "code",
      "source": [
        "# Load YOLO11n-seg, train it on COCO128-seg for 3 epochs and predict an image with it\n",
        "from ultralytics import YOLO\n",
        "\n",
        "model = YOLO('yolo11n-seg.pt')  # load a pretrained YOLO segmentation model\n",
        "model.train(data='coco8-seg.yaml', epochs=3)  # train the model\n",
        "model('https://ultralytics.com/images/bus.jpg')  # predict on an image"
      ],
      "metadata": {
        "id": "WFPJIQl_L5HT"
      },
      "execution_count": null,
      "outputs": []
    },
    {
      "cell_type": "markdown",
      "source": [
        "## 3. Classification\n",
        "\n",
        "YOLO11 _classification_ models use the `-cls` suffix, i.e. `yolo11n-cls.pt` and are pretrained on ImageNet. See [Classification Docs](https://docs.ultralytics.com/tasks/classify/) for full details.\n"
      ],
      "metadata": {
        "id": "ax3p94VNK9zR"
      }
    },
    {
      "cell_type": "code",
      "source": [
        "# Load YOLO11n-cls, train it on mnist160 for 3 epochs and predict an image with it\n",
        "from ultralytics import YOLO\n",
        "\n",
        "model = YOLO('yolo11n-cls.pt')  # load a pretrained YOLO classification model\n",
        "model.train(data='mnist160', epochs=3)  # train the model\n",
        "model('https://ultralytics.com/images/bus.jpg')  # predict on an image"
      ],
      "metadata": {
        "id": "5q9Zu6zlL5rS"
      },
      "execution_count": null,
      "outputs": []
    },
    {
      "cell_type": "markdown",
      "source": [
        "## 4. Pose\n",
        "\n",
        "YOLO11 _pose_ models use the `-pose` suffix, i.e. `yolo11n-pose.pt` and are pretrained on COCO Keypoints. See [Pose Docs](https://docs.ultralytics.com/tasks/pose/) for full details."
      ],
      "metadata": {
        "id": "SpIaFLiO11TG"
      }
    },
    {
      "cell_type": "code",
      "source": [
        "# Load YOLO11n-pose, train it on COCO8-pose for 3 epochs and predict an image with it\n",
        "from ultralytics import YOLO\n",
        "\n",
        "model = YOLO('yolo11n-pose.pt')  # load a pretrained YOLO pose model\n",
        "model.train(data='coco8-pose.yaml', epochs=3)  # train the model\n",
        "model('https://ultralytics.com/images/bus.jpg')  # predict on an image"
      ],
      "metadata": {
        "id": "si4aKFNg19vX"
      },
      "execution_count": null,
      "outputs": []
    },
    {
      "cell_type": "markdown",
      "source": [
        "## 4. Oriented Bounding Boxes (OBB)\n",
        "\n",
        "YOLO11 _OBB_ models use the `-obb` suffix, i.e. `yolo11n-obb.pt` and are pretrained on the DOTA dataset. See [OBB Docs](https://docs.ultralytics.com/tasks/obb/) for full details."
      ],
      "metadata": {
        "id": "cf5j_T9-B5F0"
      }
    },
    {
      "cell_type": "code",
      "source": [
        "# Load YOLO11n-obb, train it on DOTA8 for 3 epochs and predict an image with it\n",
        "from ultralytics import YOLO\n",
        "\n",
        "model = YOLO('yolo11n-obb.pt')  # load a pretrained YOLO OBB model\n",
        "model.train(data='dota8.yaml', epochs=3)  # train the model\n",
        "model('https://ultralytics.com/images/bus.jpg')  # predict on an image"
      ],
      "metadata": {
        "id": "IJNKClOOB5YS"
      },
      "execution_count": null,
      "outputs": []
    },
    {
      "cell_type": "markdown",
      "metadata": {
        "id": "IEijrePND_2I"
      },
      "source": [
        "# Appendix\n",
        "\n",
        "Additional content below."
      ]
    },
    {
      "cell_type": "code",
      "source": [
        "# Pip install from source\n",
        "!pip install git+https://github.com/ultralytics/ultralytics@main"
      ],
      "metadata": {
        "id": "pIdE6i8C3LYp"
      },
      "execution_count": null,
      "outputs": []
    },
    {
      "cell_type": "code",
      "source": [
        "# Git clone and run tests on updates branch\n",
        "!git clone https://github.com/ultralytics/ultralytics -b main\n",
        "%pip install -qe ultralytics"
      ],
      "metadata": {
        "id": "uRKlwxSJdhd1"
      },
      "execution_count": null,
      "outputs": []
    },
    {
      "cell_type": "code",
      "source": [
        "# Run tests (Git clone only)\n",
        "!pytest ultralytics/tests"
      ],
      "metadata": {
        "id": "GtPlh7mcCGZX"
      },
      "execution_count": null,
      "outputs": []
    },
    {
      "cell_type": "code",
      "source": [
        "# Validate multiple models\n",
        "for x in 'nsmlx':\n",
        "  !yolo val model=yolo11{x}.pt data=coco.yaml"
      ],
      "metadata": {
        "id": "Wdc6t_bfzDDk"
      },
      "execution_count": null,
      "outputs": []
    }
  ]
}